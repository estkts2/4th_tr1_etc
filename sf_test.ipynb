{
 "cells": [
  {
   "cell_type": "code",
   "execution_count": null,
   "metadata": {},
   "outputs": [],
   "source": [
    "import numpy as np\n",
    "import os\n",
    "import pickle\n",
    "import torch\n",
    "from iopath.common.file_io import g_pathmgr\n",
    "\n",
    "import slowfast.utils.checkpoint as cu\n",
    "import slowfast.utils.distributed as du\n",
    "import slowfast.utils.logging as logging\n",
    "import slowfast.utils.misc as misc\n",
    "import slowfast.visualization.tensorboard_vis as tb\n",
    "from slowfast.datasets import loader\n",
    "from slowfast.models import build_model\n",
    "from slowfast.utils.meters import AVAMeter, TestMeter\n"
   ]
  },
  {
   "cell_type": "code",
   "execution_count": null,
   "metadata": {},
   "outputs": [],
   "source": [
    "logger = logging.get_logger(__name__)"
   ]
  },
  {
   "cell_type": "code",
   "execution_count": null,
   "metadata": {},
   "outputs": [],
   "source": [
    "@torch.no_grad()\n",
    "def perform_test(test_loader, model, test_meter, cfg, writer=None):\n",
    "    \n",
    "    # Enable eval mode.\n",
    "    model.eval()\n",
    "    test_meter.iter_tic()\n",
    "    \n",
    "    for cur_iter, (inputs, labels, video_idx, meta) in enumerate(test_loader):\n",
    "        test_meter.data_toc()\n",
    "        \n",
    "        # Perform the forward pass.\n",
    "        preds = model(inputs)\n",
    "\n",
    "        # Gather all the predictions across all the devices to perform ensemble.\n",
    "        if cfg.NUM_GPUS > 1:\n",
    "            preds, labels, video_idx = du.all_gather(\n",
    "                [preds, labels, video_idx]\n",
    "            )\n",
    "        if cfg.NUM_GPUS:\n",
    "            preds = preds.cpu()\n",
    "            labels = labels.cpu()\n",
    "            video_idx = video_idx.cpu()\n",
    "\n",
    "        test_meter.iter_toc()\n",
    "        # Update and log stats.\n",
    "        test_meter.update_stats(\n",
    "            preds.detach(), labels.detach(), video_idx.detach()\n",
    "        )\n",
    "        test_meter.log_iter_stats(cur_iter)\n",
    "        \n",
    "        test_meter.iter_tic()\n",
    "        test_meter.finalize_metrics()\n",
    "        return test_meter\n",
    "        "
   ]
  }
 ],
 "metadata": {
  "kernelspec": {
   "display_name": "Python [conda env:gc2020]",
   "language": "python",
   "name": "conda-env-gc2020-py"
  },
  "language_info": {
   "codemirror_mode": {
    "name": "ipython",
    "version": 3
   },
   "file_extension": ".py",
   "mimetype": "text/x-python",
   "name": "python",
   "nbconvert_exporter": "python",
   "pygments_lexer": "ipython3",
   "version": "3.7.7"
  }
 },
 "nbformat": 4,
 "nbformat_minor": 4
}
