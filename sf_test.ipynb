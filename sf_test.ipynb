{
 "cells": [
  {
   "cell_type": "code",
   "execution_count": null,
   "metadata": {},
   "outputs": [],
   "source": [
    "import numpy as np\n",
    "import os\n",
    "import pickle\n",
    "import torch\n",
    "from iopath.common.file_io import g_pathmgr\n",
    "\n",
    "import slowfast.utils.checkpoint as cu\n",
    "import slowfast.utils.distributed as du\n",
    "import slowfast.utils.logging as logging\n",
    "import slowfast.utils.misc as misc\n",
    "import slowfast.visualization.tensorboard_vis as tb\n",
    "from slowfast.datasets import loader\n",
    "from slowfast.models import build_model\n",
    "from slowfast.utils.meters import AVAMeter, TestMeter\n"
   ]
  },
  {
   "cell_type": "code",
   "execution_count": null,
   "metadata": {},
   "outputs": [],
   "source": [
    "logger = logging.get_logger(__name__)"
   ]
  },
  {
   "cell_type": "code",
   "execution_count": null,
   "metadata": {},
   "outputs": [],
   "source": [
    "@torch.no_grad()\n",
    "def perform_test(test_loader, model, test_meter, cfg, writer=None):\n",
    "    pass"
   ]
  }
 ],
 "metadata": {
  "kernelspec": {
   "display_name": "Python [conda env:gc2020]",
   "language": "python",
   "name": "conda-env-gc2020-py"
  },
  "language_info": {
   "codemirror_mode": {
    "name": "ipython",
    "version": 3
   },
   "file_extension": ".py",
   "mimetype": "text/x-python",
   "name": "python",
   "nbconvert_exporter": "python",
   "pygments_lexer": "ipython3",
   "version": "3.7.7"
  }
 },
 "nbformat": 4,
 "nbformat_minor": 4
}
