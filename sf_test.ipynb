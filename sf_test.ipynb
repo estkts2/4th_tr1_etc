{
 "cells": [
  {
   "cell_type": "code",
   "execution_count": null,
   "metadata": {},
   "outputs": [],
   "source": [
    "import numpy as np\n",
    "import time\n",
    "import torch\n",
    "import tqdm\n",
    "\n",
    "from slowfast.utils import logging\n",
    "from slowfast.visualization.async_predictor import AsyncDemo, AsyncVis\n",
    "from slowfast.visualization.ava_demo_precomputed_boxes import (\n",
    "    AVAVisualizerWithPrecomputedBox,\n",
    ")\n",
    "from slowfast.visualization.demo_loader import ThreadVideoManager, VideoManager\n",
    "from slowfast.visualization.predictor import ActionPredictor\n",
    "from slowfast.visualization.video_visualizer import "
   ]
  },
  {
   "cell_type": "code",
   "execution_count": null,
   "metadata": {},
   "outputs": [],
   "source": []
  }
 ],
 "metadata": {
  "kernelspec": {
   "display_name": "Python [conda env:gc2020]",
   "language": "python",
   "name": "conda-env-gc2020-py"
  },
  "language_info": {
   "codemirror_mode": {
    "name": "ipython",
    "version": 3
   },
   "file_extension": ".py",
   "mimetype": "text/x-python",
   "name": "python",
   "nbconvert_exporter": "python",
   "pygments_lexer": "ipython3",
   "version": "3.7.7"
  }
 },
 "nbformat": 4,
 "nbformat_minor": 4
}
