{
 "cells": [
  {
   "cell_type": "code",
   "execution_count": null,
   "metadata": {},
   "outputs": [],
   "source": [
    "from torchreid import models, utils\n",
    "\n",
    "model = models.build_model(name='resnet50', num_classes=1000)\n",
    "num_params, flops = utils.compute_model_complexity(model, (1, 3, 256, 128))\n",
    "\n",
    "# show detailed complexity for each module\n",
    "utils.compute_model_complexity(model, (1, 3, 256, 128), verbose=True)\n",
    "\n",
    "# count flops for all layers including ReLU and BatchNorm\n",
    "utils.compute_model_complexity(model, (1, 3, 256, 128), verbose=True, only_conv_linear=False)"
   ]
  }
 ],
 "metadata": {
  "kernelspec": {
   "display_name": "Python [conda env:gc2020]",
   "language": "python",
   "name": "conda-env-gc2020-py"
  },
  "language_info": {
   "codemirror_mode": {
    "name": "ipython",
    "version": 3
   },
   "file_extension": ".py",
   "mimetype": "text/x-python",
   "name": "python",
   "nbconvert_exporter": "python",
   "pygments_lexer": "ipython3",
   "version": "3.7.7"
  }
 },
 "nbformat": 4,
 "nbformat_minor": 4
}
