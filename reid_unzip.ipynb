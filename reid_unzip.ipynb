{
 "cells": [
  {
   "cell_type": "code",
   "execution_count": 4,
   "metadata": {},
   "outputs": [],
   "source": [
    "# AI Hub 에서 다운받은 ReID 데이터를 unzip 한다.\n",
    "from glob import glob\n",
    "from pathlib import Path\n",
    "import IPython.display as ipd\n",
    "import shutil\n",
    "#shutil.rmtree('unzip')\n",
    "#Path('unzip').mkdir()\n",
    "\n",
    "for z in glob('IN/IN/*.zip'): \n",
    "    d = f'unzip/IN' \n",
    "    cmd = f'unzip {z} -d {d}'\n",
    "    print(cmd) \n",
    "    !$cmd\n",
    "    ipd.clear_output()\n",
    "    \n",
    "   # !unzip $z -d "
   ]
  },
  {
   "cell_type": "code",
   "execution_count": null,
   "metadata": {},
   "outputs": [],
   "source": []
  }
 ],
 "metadata": {
  "kernelspec": {
   "display_name": "Python [conda env:vfnet]",
   "language": "python",
   "name": "conda-env-vfnet-py"
  },
  "language_info": {
   "codemirror_mode": {
    "name": "ipython",
    "version": 3
   },
   "file_extension": ".py",
   "mimetype": "text/x-python",
   "name": "python",
   "nbconvert_exporter": "python",
   "pygments_lexer": "ipython3",
   "version": "3.7.0"
  }
 },
 "nbformat": 4,
 "nbformat_minor": 4
}
