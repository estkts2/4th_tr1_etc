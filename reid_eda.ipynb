{
 "cells": [
  {
   "cell_type": "code",
   "execution_count": 35,
   "metadata": {},
   "outputs": [
    {
     "data": {
      "text/plain": [
       "473351"
      ]
     },
     "execution_count": 35,
     "metadata": {},
     "output_type": "execute_result"
    }
   ],
   "source": [
    "# 사진 갯수\n",
    "from glob import glob\n",
    "pngs = sorted(glob('unzip/*/*/*/*/*.png')) \n",
    "len(pngs)"
   ]
  },
  {
   "cell_type": "code",
   "execution_count": 38,
   "metadata": {},
   "outputs": [
    {
     "name": "stdout",
     "output_type": "stream",
     "text": [
      "unzip/OUT/H00646/SN4/100810/OUT_H00646_SN4_100810_20397.png\n",
      "CPU times: user 887 ms, sys: 104 ms, total: 992 ms\n",
      "Wall time: 988 ms\n",
      "CPU times: user 514 ms, sys: 32.2 ms, total: 546 ms\n",
      "Wall time: 544 ms\n"
     ]
    },
    {
     "data": {
      "text/plain": [
       "[['OUT', 'H00646', 'SN4', '100810', '20391'],\n",
       " ['OUT', 'H00646', 'SN4', '100810', '20394'],\n",
       " ['OUT', 'H00646', 'SN4', '100810', '20397']]"
      ]
     },
     "execution_count": 38,
     "metadata": {},
     "output_type": "execute_result"
    }
   ],
   "source": [
    "# 파일명 파싱\n",
    "from tqdm.auto import tqdm\n",
    "print(pngs[-1])\n",
    "%time names = [e.split('/')[-1].split('.')[0].split('_') for e in pngs]\n",
    "%time rows = [n + [p] for n, p in zip(names, pngs)]\n",
    "names[-3:]"
   ]
  },
  {
   "cell_type": "code",
   "execution_count": 31,
   "metadata": {},
   "outputs": [
    {
     "data": {
      "text/html": [
       "<div>\n",
       "<style scoped>\n",
       "    .dataframe tbody tr th:only-of-type {\n",
       "        vertical-align: middle;\n",
       "    }\n",
       "\n",
       "    .dataframe tbody tr th {\n",
       "        vertical-align: top;\n",
       "    }\n",
       "\n",
       "    .dataframe thead th {\n",
       "        text-align: right;\n",
       "    }\n",
       "</style>\n",
       "<table border=\"1\" class=\"dataframe\">\n",
       "  <thead>\n",
       "    <tr style=\"text-align: right;\">\n",
       "      <th></th>\n",
       "      <th>inout</th>\n",
       "      <th>H</th>\n",
       "      <th>SN</th>\n",
       "      <th>ID</th>\n",
       "      <th>PNG</th>\n",
       "      <th>path</th>\n",
       "    </tr>\n",
       "  </thead>\n",
       "  <tbody>\n",
       "    <tr>\n",
       "      <th>473346</th>\n",
       "      <td>OUT</td>\n",
       "      <td>H00646</td>\n",
       "      <td>SN4</td>\n",
       "      <td>100810</td>\n",
       "      <td>20385</td>\n",
       "      <td>unzip/OUT/H00646/SN4/100810/OUT_H00646_SN4_100...</td>\n",
       "    </tr>\n",
       "    <tr>\n",
       "      <th>473347</th>\n",
       "      <td>OUT</td>\n",
       "      <td>H00646</td>\n",
       "      <td>SN4</td>\n",
       "      <td>100810</td>\n",
       "      <td>20388</td>\n",
       "      <td>unzip/OUT/H00646/SN4/100810/OUT_H00646_SN4_100...</td>\n",
       "    </tr>\n",
       "    <tr>\n",
       "      <th>473348</th>\n",
       "      <td>OUT</td>\n",
       "      <td>H00646</td>\n",
       "      <td>SN4</td>\n",
       "      <td>100810</td>\n",
       "      <td>20391</td>\n",
       "      <td>unzip/OUT/H00646/SN4/100810/OUT_H00646_SN4_100...</td>\n",
       "    </tr>\n",
       "    <tr>\n",
       "      <th>473349</th>\n",
       "      <td>OUT</td>\n",
       "      <td>H00646</td>\n",
       "      <td>SN4</td>\n",
       "      <td>100810</td>\n",
       "      <td>20394</td>\n",
       "      <td>unzip/OUT/H00646/SN4/100810/OUT_H00646_SN4_100...</td>\n",
       "    </tr>\n",
       "    <tr>\n",
       "      <th>473350</th>\n",
       "      <td>OUT</td>\n",
       "      <td>H00646</td>\n",
       "      <td>SN4</td>\n",
       "      <td>100810</td>\n",
       "      <td>20397</td>\n",
       "      <td>unzip/OUT/H00646/SN4/100810/OUT_H00646_SN4_100...</td>\n",
       "    </tr>\n",
       "  </tbody>\n",
       "</table>\n",
       "</div>"
      ],
      "text/plain": [
       "       inout       H   SN      ID    PNG  \\\n",
       "473346   OUT  H00646  SN4  100810  20385   \n",
       "473347   OUT  H00646  SN4  100810  20388   \n",
       "473348   OUT  H00646  SN4  100810  20391   \n",
       "473349   OUT  H00646  SN4  100810  20394   \n",
       "473350   OUT  H00646  SN4  100810  20397   \n",
       "\n",
       "                                                     path  \n",
       "473346  unzip/OUT/H00646/SN4/100810/OUT_H00646_SN4_100...  \n",
       "473347  unzip/OUT/H00646/SN4/100810/OUT_H00646_SN4_100...  \n",
       "473348  unzip/OUT/H00646/SN4/100810/OUT_H00646_SN4_100...  \n",
       "473349  unzip/OUT/H00646/SN4/100810/OUT_H00646_SN4_100...  \n",
       "473350  unzip/OUT/H00646/SN4/100810/OUT_H00646_SN4_100...  "
      ]
     },
     "execution_count": 31,
     "metadata": {},
     "output_type": "execute_result"
    }
   ],
   "source": [
    "# 데이터 프레임으로 변환\n",
    "import pandas as pd\n",
    "df = pd.DataFrame(names, columns=['inout', 'H', 'SN', 'ID', 'PNG', 'path'])\n",
    "df.tail(5)"
   ]
  },
  {
   "cell_type": "code",
   "execution_count": 33,
   "metadata": {},
   "outputs": [
    {
     "data": {
      "text/html": [
       "<div>\n",
       "<style scoped>\n",
       "    .dataframe tbody tr th:only-of-type {\n",
       "        vertical-align: middle;\n",
       "    }\n",
       "\n",
       "    .dataframe tbody tr th {\n",
       "        vertical-align: top;\n",
       "    }\n",
       "\n",
       "    .dataframe thead th {\n",
       "        text-align: right;\n",
       "    }\n",
       "</style>\n",
       "<table border=\"1\" class=\"dataframe\">\n",
       "  <thead>\n",
       "    <tr style=\"text-align: right;\">\n",
       "      <th></th>\n",
       "      <th>inout</th>\n",
       "      <th>H</th>\n",
       "      <th>SN</th>\n",
       "      <th>ID</th>\n",
       "      <th>PNG</th>\n",
       "      <th>path</th>\n",
       "    </tr>\n",
       "  </thead>\n",
       "  <tbody>\n",
       "    <tr>\n",
       "      <th>count</th>\n",
       "      <td>473351</td>\n",
       "      <td>473351</td>\n",
       "      <td>473351</td>\n",
       "      <td>473351</td>\n",
       "      <td>473351</td>\n",
       "      <td>473351</td>\n",
       "    </tr>\n",
       "    <tr>\n",
       "      <th>unique</th>\n",
       "      <td>2</td>\n",
       "      <td>100</td>\n",
       "      <td>4</td>\n",
       "      <td>75</td>\n",
       "      <td>39617</td>\n",
       "      <td>473351</td>\n",
       "    </tr>\n",
       "    <tr>\n",
       "      <th>top</th>\n",
       "      <td>OUT</td>\n",
       "      <td>H00310</td>\n",
       "      <td>SN4</td>\n",
       "      <td>090402</td>\n",
       "      <td>19503</td>\n",
       "      <td>unzip/OUT/H00547/SN2/092903/OUT_H00547_SN2_092...</td>\n",
       "    </tr>\n",
       "    <tr>\n",
       "      <th>freq</th>\n",
       "      <td>284783</td>\n",
       "      <td>6063</td>\n",
       "      <td>119817</td>\n",
       "      <td>17352</td>\n",
       "      <td>51</td>\n",
       "      <td>1</td>\n",
       "    </tr>\n",
       "  </tbody>\n",
       "</table>\n",
       "</div>"
      ],
      "text/plain": [
       "         inout       H      SN      ID     PNG  \\\n",
       "count   473351  473351  473351  473351  473351   \n",
       "unique       2     100       4      75   39617   \n",
       "top        OUT  H00310     SN4  090402   19503   \n",
       "freq    284783    6063  119817   17352      51   \n",
       "\n",
       "                                                     path  \n",
       "count                                              473351  \n",
       "unique                                             473351  \n",
       "top     unzip/OUT/H00547/SN2/092903/OUT_H00547_SN2_092...  \n",
       "freq                                                    1  "
      ]
     },
     "execution_count": 33,
     "metadata": {},
     "output_type": "execute_result"
    }
   ],
   "source": [
    "# 컬럼 통계\n",
    "df.describe()"
   ]
  },
  {
   "cell_type": "code",
   "execution_count": 48,
   "metadata": {},
   "outputs": [
    {
     "data": {
      "text/plain": [
       "['IN', 'H00276', 'SN1', '090401', '40509']"
      ]
     },
     "execution_count": 48,
     "metadata": {},
     "output_type": "execute_result"
    }
   ],
   "source": [
    "n = names[10]\n",
    "J = lambda n, i: '_'.join(n[:i])\n",
    "A = lambda n: J(n,1), J(n,2), J(n,3) , J(n,4), J(n,5)\n",
    "A(names[3])"
   ]
  },
  {
   "cell_type": "code",
   "execution_count": null,
   "metadata": {},
   "outputs": [],
   "source": []
  }
 ],
 "metadata": {
  "kernelspec": {
   "display_name": "Python [conda env:reid]",
   "language": "python",
   "name": "conda-env-reid-py"
  },
  "language_info": {
   "codemirror_mode": {
    "name": "ipython",
    "version": 3
   },
   "file_extension": ".py",
   "mimetype": "text/x-python",
   "name": "python",
   "nbconvert_exporter": "python",
   "pygments_lexer": "ipython3",
   "version": "3.7.0"
  }
 },
 "nbformat": 4,
 "nbformat_minor": 4
}
