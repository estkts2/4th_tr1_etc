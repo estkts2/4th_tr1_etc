{
 "cells": [
  {
   "cell_type": "code",
   "execution_count": 56,
   "metadata": {},
   "outputs": [
    {
     "data": {
      "text/plain": [
       "473351"
      ]
     },
     "execution_count": 56,
     "metadata": {},
     "output_type": "execute_result"
    }
   ],
   "source": [
    "# 사진 갯수\n",
    "from glob import glob\n",
    "pngs = sorted(glob('unzip/*/*/*/*/*.png')) \n",
    "len(pngs)"
   ]
  },
  {
   "cell_type": "code",
   "execution_count": 58,
   "metadata": {},
   "outputs": [
    {
     "name": "stdout",
     "output_type": "stream",
     "text": [
      "unzip/OUT/H00646/SN4/100810/OUT_H00646_SN4_100810_20397.png\n",
      "CPU times: user 791 ms, sys: 19.7 ms, total: 811 ms\n",
      "Wall time: 807 ms\n",
      "CPU times: user 1.23 s, sys: 72.1 ms, total: 1.31 s\n",
      "Wall time: 1.3 s\n"
     ]
    },
    {
     "data": {
      "text/plain": [
       "[['OUT',\n",
       "  'OUT_H00646',\n",
       "  'OUT_H00646_SN4',\n",
       "  'OUT_H00646_SN4_100810',\n",
       "  'OUT_H00646_SN4_100810_20391',\n",
       "  'unzip/OUT/H00646/SN4/100810/OUT_H00646_SN4_100810_20391.png'],\n",
       " ['OUT',\n",
       "  'OUT_H00646',\n",
       "  'OUT_H00646_SN4',\n",
       "  'OUT_H00646_SN4_100810',\n",
       "  'OUT_H00646_SN4_100810_20394',\n",
       "  'unzip/OUT/H00646/SN4/100810/OUT_H00646_SN4_100810_20394.png'],\n",
       " ['OUT',\n",
       "  'OUT_H00646',\n",
       "  'OUT_H00646_SN4',\n",
       "  'OUT_H00646_SN4_100810',\n",
       "  'OUT_H00646_SN4_100810_20397',\n",
       "  'unzip/OUT/H00646/SN4/100810/OUT_H00646_SN4_100810_20397.png']]"
      ]
     },
     "execution_count": 58,
     "metadata": {},
     "output_type": "execute_result"
    }
   ],
   "source": [
    "# 파일명 파싱\n",
    "from tqdm.auto import tqdm\n",
    "print(pngs[-1])\n",
    "%time names = [e.split('/')[-1].split('.')[0].split('_') for e in pngs]\n",
    "J = lambda n, i: '_'.join(n[:i])\n",
    "A = lambda n: [J(n,1), J(n,2), J(n,3) , J(n,4), J(n,5)]\n",
    "%time rows = [A(n) + [p] for n, p in zip(names, pngs)]\n",
    "rows[-3:]"
   ]
  },
  {
   "cell_type": "code",
   "execution_count": 59,
   "metadata": {},
   "outputs": [
    {
     "data": {
      "text/html": [
       "<div>\n",
       "<style scoped>\n",
       "    .dataframe tbody tr th:only-of-type {\n",
       "        vertical-align: middle;\n",
       "    }\n",
       "\n",
       "    .dataframe tbody tr th {\n",
       "        vertical-align: top;\n",
       "    }\n",
       "\n",
       "    .dataframe thead th {\n",
       "        text-align: right;\n",
       "    }\n",
       "</style>\n",
       "<table border=\"1\" class=\"dataframe\">\n",
       "  <thead>\n",
       "    <tr style=\"text-align: right;\">\n",
       "      <th></th>\n",
       "      <th>inout</th>\n",
       "      <th>H</th>\n",
       "      <th>SN</th>\n",
       "      <th>ID</th>\n",
       "      <th>PNG</th>\n",
       "      <th>path</th>\n",
       "    </tr>\n",
       "  </thead>\n",
       "  <tbody>\n",
       "    <tr>\n",
       "      <th>473346</th>\n",
       "      <td>OUT</td>\n",
       "      <td>OUT_H00646</td>\n",
       "      <td>OUT_H00646_SN4</td>\n",
       "      <td>OUT_H00646_SN4_100810</td>\n",
       "      <td>OUT_H00646_SN4_100810_20385</td>\n",
       "      <td>unzip/OUT/H00646/SN4/100810/OUT_H00646_SN4_100...</td>\n",
       "    </tr>\n",
       "    <tr>\n",
       "      <th>473347</th>\n",
       "      <td>OUT</td>\n",
       "      <td>OUT_H00646</td>\n",
       "      <td>OUT_H00646_SN4</td>\n",
       "      <td>OUT_H00646_SN4_100810</td>\n",
       "      <td>OUT_H00646_SN4_100810_20388</td>\n",
       "      <td>unzip/OUT/H00646/SN4/100810/OUT_H00646_SN4_100...</td>\n",
       "    </tr>\n",
       "    <tr>\n",
       "      <th>473348</th>\n",
       "      <td>OUT</td>\n",
       "      <td>OUT_H00646</td>\n",
       "      <td>OUT_H00646_SN4</td>\n",
       "      <td>OUT_H00646_SN4_100810</td>\n",
       "      <td>OUT_H00646_SN4_100810_20391</td>\n",
       "      <td>unzip/OUT/H00646/SN4/100810/OUT_H00646_SN4_100...</td>\n",
       "    </tr>\n",
       "    <tr>\n",
       "      <th>473349</th>\n",
       "      <td>OUT</td>\n",
       "      <td>OUT_H00646</td>\n",
       "      <td>OUT_H00646_SN4</td>\n",
       "      <td>OUT_H00646_SN4_100810</td>\n",
       "      <td>OUT_H00646_SN4_100810_20394</td>\n",
       "      <td>unzip/OUT/H00646/SN4/100810/OUT_H00646_SN4_100...</td>\n",
       "    </tr>\n",
       "    <tr>\n",
       "      <th>473350</th>\n",
       "      <td>OUT</td>\n",
       "      <td>OUT_H00646</td>\n",
       "      <td>OUT_H00646_SN4</td>\n",
       "      <td>OUT_H00646_SN4_100810</td>\n",
       "      <td>OUT_H00646_SN4_100810_20397</td>\n",
       "      <td>unzip/OUT/H00646/SN4/100810/OUT_H00646_SN4_100...</td>\n",
       "    </tr>\n",
       "  </tbody>\n",
       "</table>\n",
       "</div>"
      ],
      "text/plain": [
       "       inout           H              SN                     ID  \\\n",
       "473346   OUT  OUT_H00646  OUT_H00646_SN4  OUT_H00646_SN4_100810   \n",
       "473347   OUT  OUT_H00646  OUT_H00646_SN4  OUT_H00646_SN4_100810   \n",
       "473348   OUT  OUT_H00646  OUT_H00646_SN4  OUT_H00646_SN4_100810   \n",
       "473349   OUT  OUT_H00646  OUT_H00646_SN4  OUT_H00646_SN4_100810   \n",
       "473350   OUT  OUT_H00646  OUT_H00646_SN4  OUT_H00646_SN4_100810   \n",
       "\n",
       "                                PNG  \\\n",
       "473346  OUT_H00646_SN4_100810_20385   \n",
       "473347  OUT_H00646_SN4_100810_20388   \n",
       "473348  OUT_H00646_SN4_100810_20391   \n",
       "473349  OUT_H00646_SN4_100810_20394   \n",
       "473350  OUT_H00646_SN4_100810_20397   \n",
       "\n",
       "                                                     path  \n",
       "473346  unzip/OUT/H00646/SN4/100810/OUT_H00646_SN4_100...  \n",
       "473347  unzip/OUT/H00646/SN4/100810/OUT_H00646_SN4_100...  \n",
       "473348  unzip/OUT/H00646/SN4/100810/OUT_H00646_SN4_100...  \n",
       "473349  unzip/OUT/H00646/SN4/100810/OUT_H00646_SN4_100...  \n",
       "473350  unzip/OUT/H00646/SN4/100810/OUT_H00646_SN4_100...  "
      ]
     },
     "execution_count": 59,
     "metadata": {},
     "output_type": "execute_result"
    }
   ],
   "source": [
    "# 데이터 프레임으로 변환\n",
    "import pandas as pd\n",
    "df = pd.DataFrame(rows, columns=['inout', 'H', 'SN', 'ID', 'PNG', 'path'])\n",
    "df.tail(5)"
   ]
  },
  {
   "cell_type": "code",
   "execution_count": 62,
   "metadata": {},
   "outputs": [
    {
     "data": {
      "text/html": [
       "<div>\n",
       "<style scoped>\n",
       "    .dataframe tbody tr th:only-of-type {\n",
       "        vertical-align: middle;\n",
       "    }\n",
       "\n",
       "    .dataframe tbody tr th {\n",
       "        vertical-align: top;\n",
       "    }\n",
       "\n",
       "    .dataframe thead th {\n",
       "        text-align: right;\n",
       "    }\n",
       "</style>\n",
       "<table border=\"1\" class=\"dataframe\">\n",
       "  <thead>\n",
       "    <tr style=\"text-align: right;\">\n",
       "      <th></th>\n",
       "      <th>inout</th>\n",
       "      <th>H</th>\n",
       "      <th>SN</th>\n",
       "      <th>ID</th>\n",
       "      <th>PNG</th>\n",
       "      <th>path</th>\n",
       "    </tr>\n",
       "  </thead>\n",
       "  <tbody>\n",
       "    <tr>\n",
       "      <th>unique</th>\n",
       "      <td>2</td>\n",
       "      <td>102</td>\n",
       "      <td>401</td>\n",
       "      <td>3981</td>\n",
       "      <td>473351</td>\n",
       "      <td>473351</td>\n",
       "    </tr>\n",
       "  </tbody>\n",
       "</table>\n",
       "</div>"
      ],
      "text/plain": [
       "       inout    H   SN    ID     PNG    path\n",
       "unique     2  102  401  3981  473351  473351"
      ]
     },
     "execution_count": 62,
     "metadata": {},
     "output_type": "execute_result"
    }
   ],
   "source": [
    "# 컬럼별  nuique 통계\n",
    "df.describe().loc[['unique']]"
   ]
  },
  {
   "cell_type": "code",
   "execution_count": null,
   "metadata": {},
   "outputs": [],
   "source": []
  }
 ],
 "metadata": {
  "kernelspec": {
   "display_name": "Python [conda env:reid]",
   "language": "python",
   "name": "conda-env-reid-py"
  },
  "language_info": {
   "codemirror_mode": {
    "name": "ipython",
    "version": 3
   },
   "file_extension": ".py",
   "mimetype": "text/x-python",
   "name": "python",
   "nbconvert_exporter": "python",
   "pygments_lexer": "ipython3",
   "version": "3.7.0"
  }
 },
 "nbformat": 4,
 "nbformat_minor": 4
}
