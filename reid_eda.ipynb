{
 "cells": [
  {
   "cell_type": "code",
   "execution_count": 29,
   "metadata": {},
   "outputs": [
    {
     "data": {
      "text/plain": [
       "473351"
      ]
     },
     "execution_count": 29,
     "metadata": {},
     "output_type": "execute_result"
    }
   ],
   "source": [
    "# 사진 갯수\n",
    "from glob import glob\n",
    "pngs = sorted(glob('unzip/*/*/*/*/*.png')) \n",
    "len(pngs)"
   ]
  },
  {
   "cell_type": "code",
   "execution_count": 30,
   "metadata": {},
   "outputs": [
    {
     "name": "stdout",
     "output_type": "stream",
     "text": [
      "unzip/OUT/H00646/SN4/100810/OUT_H00646_SN4_100810_20397.png\n",
      "CPU times: user 256 ms, sys: 4.04 ms, total: 260 ms\n",
      "Wall time: 258 ms\n",
      "CPU times: user 790 ms, sys: 120 ms, total: 910 ms\n",
      "Wall time: 908 ms\n"
     ]
    },
    {
     "data": {
      "text/plain": [
       "[['OUT',\n",
       "  'H00646',\n",
       "  'SN4',\n",
       "  '100810',\n",
       "  '20391',\n",
       "  'unzip/OUT/H00646/SN4/100810/OUT_H00646_SN4_100810_20391.png'],\n",
       " ['OUT',\n",
       "  'H00646',\n",
       "  'SN4',\n",
       "  '100810',\n",
       "  '20394',\n",
       "  'unzip/OUT/H00646/SN4/100810/OUT_H00646_SN4_100810_20394.png'],\n",
       " ['OUT',\n",
       "  'H00646',\n",
       "  'SN4',\n",
       "  '100810',\n",
       "  '20397',\n",
       "  'unzip/OUT/H00646/SN4/100810/OUT_H00646_SN4_100810_20397.png']]"
      ]
     },
     "execution_count": 30,
     "metadata": {},
     "output_type": "execute_result"
    }
   ],
   "source": [
    "# 파일명 파싱\n",
    "from tqdm.auto import tqdm\n",
    "print(pngs[-1])\n",
    "%time names = [e.split('/')[-1].split('.')[0] for e in pngs]\n",
    "%time names= [e.split('_') + [p] for e, p in zip(names, pngs)]\n",
    "names[-3:]"
   ]
  },
  {
   "cell_type": "code",
   "execution_count": 31,
   "metadata": {},
   "outputs": [
    {
     "data": {
      "text/html": [
       "<div>\n",
       "<style scoped>\n",
       "    .dataframe tbody tr th:only-of-type {\n",
       "        vertical-align: middle;\n",
       "    }\n",
       "\n",
       "    .dataframe tbody tr th {\n",
       "        vertical-align: top;\n",
       "    }\n",
       "\n",
       "    .dataframe thead th {\n",
       "        text-align: right;\n",
       "    }\n",
       "</style>\n",
       "<table border=\"1\" class=\"dataframe\">\n",
       "  <thead>\n",
       "    <tr style=\"text-align: right;\">\n",
       "      <th></th>\n",
       "      <th>inout</th>\n",
       "      <th>H</th>\n",
       "      <th>SN</th>\n",
       "      <th>ID</th>\n",
       "      <th>PNG</th>\n",
       "      <th>path</th>\n",
       "    </tr>\n",
       "  </thead>\n",
       "  <tbody>\n",
       "    <tr>\n",
       "      <th>473346</th>\n",
       "      <td>OUT</td>\n",
       "      <td>H00646</td>\n",
       "      <td>SN4</td>\n",
       "      <td>100810</td>\n",
       "      <td>20385</td>\n",
       "      <td>unzip/OUT/H00646/SN4/100810/OUT_H00646_SN4_100...</td>\n",
       "    </tr>\n",
       "    <tr>\n",
       "      <th>473347</th>\n",
       "      <td>OUT</td>\n",
       "      <td>H00646</td>\n",
       "      <td>SN4</td>\n",
       "      <td>100810</td>\n",
       "      <td>20388</td>\n",
       "      <td>unzip/OUT/H00646/SN4/100810/OUT_H00646_SN4_100...</td>\n",
       "    </tr>\n",
       "    <tr>\n",
       "      <th>473348</th>\n",
       "      <td>OUT</td>\n",
       "      <td>H00646</td>\n",
       "      <td>SN4</td>\n",
       "      <td>100810</td>\n",
       "      <td>20391</td>\n",
       "      <td>unzip/OUT/H00646/SN4/100810/OUT_H00646_SN4_100...</td>\n",
       "    </tr>\n",
       "    <tr>\n",
       "      <th>473349</th>\n",
       "      <td>OUT</td>\n",
       "      <td>H00646</td>\n",
       "      <td>SN4</td>\n",
       "      <td>100810</td>\n",
       "      <td>20394</td>\n",
       "      <td>unzip/OUT/H00646/SN4/100810/OUT_H00646_SN4_100...</td>\n",
       "    </tr>\n",
       "    <tr>\n",
       "      <th>473350</th>\n",
       "      <td>OUT</td>\n",
       "      <td>H00646</td>\n",
       "      <td>SN4</td>\n",
       "      <td>100810</td>\n",
       "      <td>20397</td>\n",
       "      <td>unzip/OUT/H00646/SN4/100810/OUT_H00646_SN4_100...</td>\n",
       "    </tr>\n",
       "  </tbody>\n",
       "</table>\n",
       "</div>"
      ],
      "text/plain": [
       "       inout       H   SN      ID    PNG  \\\n",
       "473346   OUT  H00646  SN4  100810  20385   \n",
       "473347   OUT  H00646  SN4  100810  20388   \n",
       "473348   OUT  H00646  SN4  100810  20391   \n",
       "473349   OUT  H00646  SN4  100810  20394   \n",
       "473350   OUT  H00646  SN4  100810  20397   \n",
       "\n",
       "                                                     path  \n",
       "473346  unzip/OUT/H00646/SN4/100810/OUT_H00646_SN4_100...  \n",
       "473347  unzip/OUT/H00646/SN4/100810/OUT_H00646_SN4_100...  \n",
       "473348  unzip/OUT/H00646/SN4/100810/OUT_H00646_SN4_100...  \n",
       "473349  unzip/OUT/H00646/SN4/100810/OUT_H00646_SN4_100...  \n",
       "473350  unzip/OUT/H00646/SN4/100810/OUT_H00646_SN4_100...  "
      ]
     },
     "execution_count": 31,
     "metadata": {},
     "output_type": "execute_result"
    }
   ],
   "source": [
    "# 데이터 프레임으로 변환\n",
    "import pandas as pd\n",
    "df = pd.DataFrame(names, columns=['inout', 'H', 'SN', 'ID', 'PNG', 'path'])\n",
    "df.tail(5)"
   ]
  },
  {
   "cell_type": "code",
   "execution_count": null,
   "metadata": {},
   "outputs": [],
   "source": []
  }
 ],
 "metadata": {
  "kernelspec": {
   "display_name": "Python [conda env:reid]",
   "language": "python",
   "name": "conda-env-reid-py"
  },
  "language_info": {
   "codemirror_mode": {
    "name": "ipython",
    "version": 3
   },
   "file_extension": ".py",
   "mimetype": "text/x-python",
   "name": "python",
   "nbconvert_exporter": "python",
   "pygments_lexer": "ipython3",
   "version": "3.7.0"
  }
 },
 "nbformat": 4,
 "nbformat_minor": 4
}
