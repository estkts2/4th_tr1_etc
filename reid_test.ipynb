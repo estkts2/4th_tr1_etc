{
 "cells": [
  {
   "cell_type": "code",
   "execution_count": null,
   "metadata": {},
   "outputs": [],
   "source": [
    "from torchreid.utils import FeatureExtractor\n",
    "\n",
    "extractor = FeatureExtractor(\n",
    "    model_name='osnet_ain_x1_0',\n",
    "    model_path='./weights/osnet_ain_x1_0_msmt17_256x128_amsgrad_ep50_lr0.0015_coslr_b64_fb10_softmax_labsmth_flip_jitter.pth',\n",
    "    device='cuda'\n",
    ")"
   ]
  },
  {
   "cell_type": "code",
   "execution_count": null,
   "metadata": {},
   "outputs": [],
   "source": [
    "from glob import glob\n",
    "from pathlib import Path\n",
    "TH = 0.7\n",
    "def glob_(f):\n",
    "    fs = glob(f)\n",
    "    fs = [(Path(e).stem.split('_')[-1], e) for e in fs]\n",
    "    #print('-------')\n",
    "    #print(len(fs))\n",
    "    fs = [e for c, e in fs if TH <= float(c)]\n",
    "    #print(len(fs))\n",
    "    return fs\n",
    "    \n",
    "ps = sorted(glob('reid_sample/*_'))\n",
    "ps_ebds = [extractor(glob_(f'{p}/*.png')) for p in ps]"
   ]
  },
  {
   "cell_type": "code",
   "execution_count": null,
   "metadata": {},
   "outputs": [],
   "source": [
    "import random\n",
    "import torch.nn.functional as F\n",
    "\n",
    "\n",
    "# 사잇각의 평균, 표준편차, 최대, 최소\n",
    "def mean_diff(ebds):\n",
    "    ebds = F.normalize(ebds, p=2, dim=-1)\n",
    "    ebds_t = ebds.transpose(1, 0)\n",
    "    dots = ebds@ebds_t\n",
    "    diff = 1 - dots\n",
    "    mean = diff.sum()/(len(ebds)*len(ebds) - len(ebds))\n",
    "    r = [mean, diff.max(), diff.std(), diff.clone().fill_diagonal_(1).min()]\n",
    "    r = [e.cpu().numpy().round(3) for e in r]\n",
    "    return r"
   ]
  },
  {
   "cell_type": "code",
   "execution_count": null,
   "metadata": {},
   "outputs": [],
   "source": [
    "# 동일인 사잇각 평균, max, std, min\n",
    "sts = [mean_diff(e) for e in ps_ebds]"
   ]
  },
  {
   "cell_type": "code",
   "execution_count": null,
   "metadata": {},
   "outputs": [],
   "source": [
    "# 랜덤하게 선택해서 사잇각 구하기\n",
    "ebds = torch.stack([random.choice(e) for e in ps_ebds])\n",
    "mean_diff(ebds)"
   ]
  },
  {
   "cell_type": "code",
   "execution_count": null,
   "metadata": {},
   "outputs": [],
   "source": [
    "# 모든 이미지에 대한 임베딩을 구한다.\n",
    "all_imgs = sorted(glob_('reid_sample/*/*.png'))\n",
    "all_ebds = extractor(all_imgs)\n",
    "[len(glob_(f'{v}/*.png')) for v in sorted(glob('reid_sample/*'))]"
   ]
  },
  {
   "cell_type": "code",
   "execution_count": null,
   "metadata": {},
   "outputs": [],
   "source": [
    "from annoy import AnnoyIndex\n",
    "t = AnnoyIndex(512, 'angular')\n",
    "for i, e in enumerate(all_ebds):\n",
    "    t.add_item(i, e)\n",
    "    \n",
    "ntree = 150\n",
    "t.build(ntree)\n",
    "r = t.get_nns_by_item(20+22+16+2, 100, include_distances=True)\n",
    "for i, p in enumerate(list(zip(*r))):\n",
    "    print(i, p)"
   ]
  },
  {
   "cell_type": "code",
   "execution_count": null,
   "metadata": {},
   "outputs": [],
   "source": [
    "import sys\n",
    "sys.path.append('../FINCH-Clustering/python')\n",
    "from finch import FINCH\n",
    "c, num_clust, req_c = FINCH(all_ebds[:].cpu().numpy())"
   ]
  }
 ],
 "metadata": {
  "kernelspec": {
   "display_name": "Python [conda env:reid]",
   "language": "python",
   "name": "conda-env-reid-py"
  },
  "language_info": {
   "codemirror_mode": {
    "name": "ipython",
    "version": 3
   },
   "file_extension": ".py",
   "mimetype": "text/x-python",
   "name": "python",
   "nbconvert_exporter": "python",
   "pygments_lexer": "ipython3",
   "version": "3.7.0"
  }
 },
 "nbformat": 4,
 "nbformat_minor": 4
}
