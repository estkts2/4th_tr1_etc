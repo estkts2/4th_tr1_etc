{
 "cells": [
  {
   "cell_type": "code",
   "execution_count": null,
   "metadata": {},
   "outputs": [],
   "source": [
    "from torchreid.utils import FeatureExtractor\n",
    "\n",
    "extractor = FeatureExtractor(\n",
    "    model_name='osnet_ain_x1_0',\n",
    "    model_path='./weights/osnet_ain_x1_0_msmt17_256x128_amsgrad_ep50_lr0.0015_coslr_b64_fb10_softmax_labsmth_flip_jitter.pth',\n",
    "    device='cuda'\n",
    ")"
   ]
  },
  {
   "cell_type": "code",
   "execution_count": null,
   "metadata": {},
   "outputs": [],
   "source": [
    "from glob import glob\n",
    "from pathlib import Path\n",
    "TH = 0.7\n",
    "def glob_(f):\n",
    "    fs = glob(f)\n",
    "    fs = [(Path(e).stem.split('_')[-1], e) for e in fs]\n",
    "    #print('-------')\n",
    "    #print(len(fs))\n",
    "    fs = [e for c, e in fs if TH <= float(c)]\n",
    "    #print(len(fs))\n",
    "    return fs\n",
    "    \n",
    "ps = sorted(glob('reid_sample/*_'))\n",
    "ps_ebds = [extractor(glob_(f'{p}/*.png')) for p in ps]"
   ]
  }
 ],
 "metadata": {
  "kernelspec": {
   "display_name": "Python [conda env:reid]",
   "language": "python",
   "name": "conda-env-reid-py"
  },
  "language_info": {
   "codemirror_mode": {
    "name": "ipython",
    "version": 3
   },
   "file_extension": ".py",
   "mimetype": "text/x-python",
   "name": "python",
   "nbconvert_exporter": "python",
   "pygments_lexer": "ipython3",
   "version": "3.7.0"
  }
 },
 "nbformat": 4,
 "nbformat_minor": 4
}
