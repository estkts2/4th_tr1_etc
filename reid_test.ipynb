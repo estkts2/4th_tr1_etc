{
 "cells": [
  {
   "cell_type": "code",
   "execution_count": null,
   "metadata": {},
   "outputs": [],
   "source": [
    "from torchreid.utils import FeatureExtractor\n",
    "\n",
    "extractor = FeatureExtractor(\n",
    "    model_name='osnet_ain_x1_0',\n",
    "    model_path='./weights/osnet_ain_x1_0_msmt17_256x128_amsgrad_ep50_lr0.0015_coslr_b64_fb10_softmax_labsmth_flip_jitter.pth',\n",
    "    device='cuda'\n",
    ")"
   ]
  },
  {
   "cell_type": "code",
   "execution_count": null,
   "metadata": {},
   "outputs": [],
   "source": [
    "from glob import glob\n",
    "from pathlib import Path\n",
    "TH = 0.7\n",
    "def glob_(f):\n",
    "    fs = glob(f)\n",
    "    fs = [(Path(e).stem.split('_')[-1], e) for e in fs]\n",
    "    #print('-------')\n",
    "    #print(len(fs))\n",
    "    fs = [e for c, e in fs if TH <= float(c)]\n",
    "    #print(len(fs))\n",
    "    return fs\n",
    "    \n",
    "ps = sorted(glob('reid_sample/*_'))\n",
    "ps_ebds = [extractor(glob_(f'{p}/*.png')) for p in ps]"
   ]
  },
  {
   "cell_type": "code",
   "execution_count": null,
   "metadata": {},
   "outputs": [],
   "source": [
    "import random\n",
    "import torch.nn.functional as F\n",
    "\n",
    "\n",
    "# 사잇각의 평균, 표준편차, 최대, 최소\n",
    "def mean_diff(ebds):\n",
    "    ebds = F.normalize(ebds, p=2, dim=-1)\n",
    "    ebds_t = ebds.transpose(1, 0)\n",
    "    dots = ebds@ebds_t\n",
    "    diff = 1 - dots\n",
    "    mean = diff.sum()/(len(ebds)*len(ebds) - len(ebds))\n",
    "    r = [mean, diff.max(), diff.std(), diff.clone().fill_diagonal_(1).min()]\n",
    "    r = [e.cpu().numpy().round(3) for e in r]\n",
    "    return r"
   ]
  },
  {
   "cell_type": "code",
   "execution_count": null,
   "metadata": {},
   "outputs": [],
   "source": []
  }
 ],
 "metadata": {
  "kernelspec": {
   "display_name": "Python [conda env:reid]",
   "language": "python",
   "name": "conda-env-reid-py"
  },
  "language_info": {
   "codemirror_mode": {
    "name": "ipython",
    "version": 3
   },
   "file_extension": ".py",
   "mimetype": "text/x-python",
   "name": "python",
   "nbconvert_exporter": "python",
   "pygments_lexer": "ipython3",
   "version": "3.7.0"
  }
 },
 "nbformat": 4,
 "nbformat_minor": 4
}
